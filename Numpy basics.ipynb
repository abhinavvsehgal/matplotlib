{
 "cells": [
  {
   "cell_type": "code",
   "execution_count": 2,
   "metadata": {},
   "outputs": [],
   "source": [
    "import numpy as np\n"
   ]
  },
  {
   "cell_type": "code",
   "execution_count": 75,
   "metadata": {},
   "outputs": [
    {
     "data": {
      "text/plain": [
       "array([1, 2, 3])"
      ]
     },
     "execution_count": 75,
     "metadata": {},
     "output_type": "execute_result"
    }
   ],
   "source": [
    "a= np.asarray"
   ]
  },
  {
   "cell_type": "code",
   "execution_count": 72,
   "metadata": {},
   "outputs": [
    {
     "data": {
      "text/plain": [
       "array([1, 2, 3])"
      ]
     },
     "execution_count": 72,
     "metadata": {},
     "output_type": "execute_result"
    }
   ],
   "source": [
    "a"
   ]
  },
  {
   "cell_type": "code",
   "execution_count": 17,
   "metadata": {},
   "outputs": [
    {
     "name": "stdout",
     "output_type": "stream",
     "text": [
      "(3,)\n"
     ]
    }
   ],
   "source": [
    "print(a.shape)"
   ]
  },
  {
   "cell_type": "code",
   "execution_count": 24,
   "metadata": {},
   "outputs": [
    {
     "data": {
      "text/plain": [
       "array([[ 1,  2,  4],\n",
       "       [ 3,  4,  2],\n",
       "       [10, 10, 10]])"
      ]
     },
     "execution_count": 24,
     "metadata": {},
     "output_type": "execute_result"
    }
   ],
   "source": [
    "b=np.array((([1,2,4],[3,4,2],[10,10,10])))\n",
    "b"
   ]
  },
  {
   "cell_type": "code",
   "execution_count": 38,
   "metadata": {},
   "outputs": [
    {
     "data": {
      "text/plain": [
       "(3, 3)"
      ]
     },
     "execution_count": 38,
     "metadata": {},
     "output_type": "execute_result"
    }
   ],
   "source": [
    "b.shape\n"
   ]
  },
  {
   "cell_type": "code",
   "execution_count": 39,
   "metadata": {},
   "outputs": [
    {
     "data": {
      "text/plain": [
       "array([[100, 100, 100],\n",
       "       [100, 100, 100],\n",
       "       [100, 100, 100]])"
      ]
     },
     "execution_count": 39,
     "metadata": {},
     "output_type": "execute_result"
    }
   ],
   "source": [
    "b[1:,1:]=100\n",
    "b"
   ]
  },
  {
   "cell_type": "markdown",
   "metadata": {},
   "source": [
    "np.eye?"
   ]
  },
  {
   "cell_type": "code",
   "execution_count": 51,
   "metadata": {},
   "outputs": [],
   "source": [
    "k=np.eye(5, dtype ='int32')*5"
   ]
  },
  {
   "cell_type": "code",
   "execution_count": 52,
   "metadata": {},
   "outputs": [
    {
     "data": {
      "text/plain": [
       "array([[5, 0, 0, 0, 0],\n",
       "       [0, 5, 0, 0, 0],\n",
       "       [0, 0, 5, 0, 0],\n",
       "       [0, 0, 0, 5, 0],\n",
       "       [0, 0, 0, 0, 5]], dtype=int32)"
      ]
     },
     "execution_count": 52,
     "metadata": {},
     "output_type": "execute_result"
    }
   ],
   "source": [
    "k"
   ]
  },
  {
   "cell_type": "code",
   "execution_count": 54,
   "metadata": {},
   "outputs": [
    {
     "data": {
      "text/plain": [
       "array([[16, 11, 19, 19, 11],\n",
       "       [15, 11, 18, 15, 11],\n",
       "       [12, 15, 15, 19, 14],\n",
       "       [15, 12, 11, 14, 18],\n",
       "       [15, 12, 15, 12, 14]])"
      ]
     },
     "execution_count": 54,
     "metadata": {},
     "output_type": "execute_result"
    }
   ],
   "source": [
    "np.random.randint(10,20,(5,5))\n"
   ]
  },
  {
   "cell_type": "code",
   "execution_count": 55,
   "metadata": {},
   "outputs": [
    {
     "data": {
      "text/plain": [
       "array([12, 13, 18, 15, 19])"
      ]
     },
     "execution_count": 55,
     "metadata": {},
     "output_type": "execute_result"
    }
   ],
   "source": [
    "np.random.randint(10,20,(5,))"
   ]
  },
  {
   "cell_type": "code",
   "execution_count": 58,
   "metadata": {},
   "outputs": [],
   "source": [
    "a1=np.random.randint(10,20,(5,5,5)) "
   ]
  },
  {
   "cell_type": "code",
   "execution_count": 59,
   "metadata": {},
   "outputs": [
    {
     "name": "stdout",
     "output_type": "stream",
     "text": [
      "19\n"
     ]
    }
   ],
   "source": [
    "print(np.max(a1))"
   ]
  },
  {
   "cell_type": "code",
   "execution_count": 60,
   "metadata": {},
   "outputs": [
    {
     "name": "stdout",
     "output_type": "stream",
     "text": [
      "[[[10 19 16 17 11]\n",
      "  [19 11 16 17 14]\n",
      "  [16 17 18 17 13]\n",
      "  [15 15 16 12 19]\n",
      "  [19 19 14 17 10]]\n",
      "\n",
      " [[13 18 13 17 12]\n",
      "  [18 14 13 10 16]\n",
      "  [11 14 12 10 13]\n",
      "  [19 18 13 13 17]\n",
      "  [17 16 11 10 13]]\n",
      "\n",
      " [[17 11 14 19 17]\n",
      "  [16 11 13 18 14]\n",
      "  [16 10 13 13 13]\n",
      "  [18 11 15 14 10]\n",
      "  [19 19 13 13 11]]\n",
      "\n",
      " [[17 18 11 10 11]\n",
      "  [18 16 14 11 12]\n",
      "  [11 10 15 10 15]\n",
      "  [14 15 18 19 10]\n",
      "  [11 16 12 17 15]]\n",
      "\n",
      " [[10 11 16 13 17]\n",
      "  [18 16 19 18 19]\n",
      "  [14 15 16 16 14]\n",
      "  [15 19 13 10 12]\n",
      "  [14 13 15 10 17]]]\n"
     ]
    }
   ],
   "source": [
    "print(a1)"
   ]
  },
  {
   "cell_type": "code",
   "execution_count": 61,
   "metadata": {},
   "outputs": [
    {
     "data": {
      "text/plain": [
       "14.496"
      ]
     },
     "execution_count": 61,
     "metadata": {},
     "output_type": "execute_result"
    }
   ],
   "source": [
    "np.mean(a1)"
   ]
  },
  {
   "cell_type": "code",
   "execution_count": 62,
   "metadata": {},
   "outputs": [
    {
     "data": {
      "text/plain": [
       "2.9027545538677564"
      ]
     },
     "execution_count": 62,
     "metadata": {},
     "output_type": "execute_result"
    }
   ],
   "source": [
    "np.std(a1)"
   ]
  },
  {
   "cell_type": "code",
   "execution_count": 63,
   "metadata": {},
   "outputs": [
    {
     "data": {
      "text/plain": [
       "8.425983999999998"
      ]
     },
     "execution_count": 63,
     "metadata": {},
     "output_type": "execute_result"
    }
   ],
   "source": [
    "np.var(a1)"
   ]
  },
  {
   "cell_type": "code",
   "execution_count": 66,
   "metadata": {},
   "outputs": [
    {
     "data": {
      "text/plain": [
       "array([[[2.20264658e+04, 1.78482301e+08, 8.88611052e+06, 2.41549528e+07,\n",
       "         5.98741417e+04],\n",
       "        [1.78482301e+08, 5.98741417e+04, 8.88611052e+06, 2.41549528e+07,\n",
       "         1.20260428e+06],\n",
       "        [8.88611052e+06, 2.41549528e+07, 6.56599691e+07, 2.41549528e+07,\n",
       "         4.42413392e+05],\n",
       "        [3.26901737e+06, 3.26901737e+06, 8.88611052e+06, 1.62754791e+05,\n",
       "         1.78482301e+08],\n",
       "        [1.78482301e+08, 1.78482301e+08, 1.20260428e+06, 2.41549528e+07,\n",
       "         2.20264658e+04]],\n",
       "\n",
       "       [[4.42413392e+05, 6.56599691e+07, 4.42413392e+05, 2.41549528e+07,\n",
       "         1.62754791e+05],\n",
       "        [6.56599691e+07, 1.20260428e+06, 4.42413392e+05, 2.20264658e+04,\n",
       "         8.88611052e+06],\n",
       "        [5.98741417e+04, 1.20260428e+06, 1.62754791e+05, 2.20264658e+04,\n",
       "         4.42413392e+05],\n",
       "        [1.78482301e+08, 6.56599691e+07, 4.42413392e+05, 4.42413392e+05,\n",
       "         2.41549528e+07],\n",
       "        [2.41549528e+07, 8.88611052e+06, 5.98741417e+04, 2.20264658e+04,\n",
       "         4.42413392e+05]],\n",
       "\n",
       "       [[2.41549528e+07, 5.98741417e+04, 1.20260428e+06, 1.78482301e+08,\n",
       "         2.41549528e+07],\n",
       "        [8.88611052e+06, 5.98741417e+04, 4.42413392e+05, 6.56599691e+07,\n",
       "         1.20260428e+06],\n",
       "        [8.88611052e+06, 2.20264658e+04, 4.42413392e+05, 4.42413392e+05,\n",
       "         4.42413392e+05],\n",
       "        [6.56599691e+07, 5.98741417e+04, 3.26901737e+06, 1.20260428e+06,\n",
       "         2.20264658e+04],\n",
       "        [1.78482301e+08, 1.78482301e+08, 4.42413392e+05, 4.42413392e+05,\n",
       "         5.98741417e+04]],\n",
       "\n",
       "       [[2.41549528e+07, 6.56599691e+07, 5.98741417e+04, 2.20264658e+04,\n",
       "         5.98741417e+04],\n",
       "        [6.56599691e+07, 8.88611052e+06, 1.20260428e+06, 5.98741417e+04,\n",
       "         1.62754791e+05],\n",
       "        [5.98741417e+04, 2.20264658e+04, 3.26901737e+06, 2.20264658e+04,\n",
       "         3.26901737e+06],\n",
       "        [1.20260428e+06, 3.26901737e+06, 6.56599691e+07, 1.78482301e+08,\n",
       "         2.20264658e+04],\n",
       "        [5.98741417e+04, 8.88611052e+06, 1.62754791e+05, 2.41549528e+07,\n",
       "         3.26901737e+06]],\n",
       "\n",
       "       [[2.20264658e+04, 5.98741417e+04, 8.88611052e+06, 4.42413392e+05,\n",
       "         2.41549528e+07],\n",
       "        [6.56599691e+07, 8.88611052e+06, 1.78482301e+08, 6.56599691e+07,\n",
       "         1.78482301e+08],\n",
       "        [1.20260428e+06, 3.26901737e+06, 8.88611052e+06, 8.88611052e+06,\n",
       "         1.20260428e+06],\n",
       "        [3.26901737e+06, 1.78482301e+08, 4.42413392e+05, 2.20264658e+04,\n",
       "         1.62754791e+05],\n",
       "        [1.20260428e+06, 4.42413392e+05, 3.26901737e+06, 2.20264658e+04,\n",
       "         2.41549528e+07]]])"
      ]
     },
     "execution_count": 66,
     "metadata": {},
     "output_type": "execute_result"
    }
   ],
   "source": [
    "np.exp(a1)"
   ]
  },
  {
   "cell_type": "code",
   "execution_count": 71,
   "metadata": {},
   "outputs": [
    {
     "ename": "ValueError",
     "evalue": "only 2 non-keyword arguments accepted",
     "output_type": "error",
     "traceback": [
      "\u001b[0;31m---------------------------------------------------------------------------\u001b[0m",
      "\u001b[0;31mValueError\u001b[0m                                Traceback (most recent call last)",
      "\u001b[0;32m<ipython-input-71-3b5b276c60a9>\u001b[0m in \u001b[0;36m<module>\u001b[0;34m\u001b[0m\n\u001b[0;32m----> 1\u001b[0;31m \u001b[0mc\u001b[0m\u001b[0;34m=\u001b[0m\u001b[0mnp\u001b[0m\u001b[0;34m.\u001b[0m\u001b[0marray\u001b[0m\u001b[0;34m(\u001b[0m\u001b[0;36m5\u001b[0m\u001b[0;34m,\u001b[0m\u001b[0;36m5\u001b[0m\u001b[0;34m,\u001b[0m\u001b[0;36m5\u001b[0m\u001b[0;34m)\u001b[0m\u001b[0;34m\u001b[0m\u001b[0;34m\u001b[0m\u001b[0m\n\u001b[0m\u001b[1;32m      2\u001b[0m \u001b[0ml\u001b[0m\u001b[0;34m=\u001b[0m \u001b[0mnp\u001b[0m\u001b[0;34m.\u001b[0m\u001b[0marray\u001b[0m\u001b[0;34m(\u001b[0m\u001b[0;34m[\u001b[0m\u001b[0;36m1\u001b[0m\u001b[0;34m,\u001b[0m\u001b[0;36m2\u001b[0m\u001b[0;34m,\u001b[0m\u001b[0;36m3\u001b[0m\u001b[0;34m,\u001b[0m\u001b[0;36m4\u001b[0m\u001b[0;34m]\u001b[0m\u001b[0;34m)\u001b[0m\u001b[0;34m\u001b[0m\u001b[0;34m\u001b[0m\u001b[0m\n",
      "\u001b[0;31mValueError\u001b[0m: only 2 non-keyword arguments accepted"
     ]
    }
   ],
   "source": [
    "c=np.array()\n",
    "l= np.array([1,2,3,4])\n"
   ]
  },
  {
   "cell_type": "code",
   "execution_count": 79,
   "metadata": {},
   "outputs": [],
   "source": [
    "a= np.ones((3,3))*5"
   ]
  },
  {
   "cell_type": "code",
   "execution_count": 80,
   "metadata": {},
   "outputs": [
    {
     "data": {
      "text/plain": [
       "array([[5., 5., 5.],\n",
       "       [5., 5., 5.],\n",
       "       [5., 5., 5.]])"
      ]
     },
     "execution_count": 80,
     "metadata": {},
     "output_type": "execute_result"
    }
   ],
   "source": [
    "a"
   ]
  },
  {
   "cell_type": "code",
   "execution_count": 83,
   "metadata": {},
   "outputs": [
    {
     "data": {
      "text/plain": [
       "array([[95., 95., 95.],\n",
       "       [95., 95., 95.],\n",
       "       [95., 95., 95.]])"
      ]
     },
     "execution_count": 83,
     "metadata": {},
     "output_type": "execute_result"
    }
   ],
   "source": [
    "c=b-a\n",
    "c"
   ]
  },
  {
   "cell_type": "code",
   "execution_count": 86,
   "metadata": {},
   "outputs": [],
   "source": [
    "c=np.vstack((a,b))"
   ]
  },
  {
   "cell_type": "code",
   "execution_count": 87,
   "metadata": {},
   "outputs": [
    {
     "data": {
      "text/plain": [
       "array([[  5.,   5.,   5.],\n",
       "       [  5.,   5.,   5.],\n",
       "       [  5.,   5.,   5.],\n",
       "       [100., 100., 100.],\n",
       "       [100., 100., 100.],\n",
       "       [100., 100., 100.]])"
      ]
     },
     "execution_count": 87,
     "metadata": {},
     "output_type": "execute_result"
    }
   ],
   "source": [
    "c"
   ]
  },
  {
   "cell_type": "code",
   "execution_count": 89,
   "metadata": {},
   "outputs": [],
   "source": [
    "c=np.hstack((b,a))"
   ]
  },
  {
   "cell_type": "code",
   "execution_count": 90,
   "metadata": {},
   "outputs": [
    {
     "data": {
      "text/plain": [
       "array([[100., 100., 100.,   5.,   5.,   5.],\n",
       "       [100., 100., 100.,   5.,   5.,   5.],\n",
       "       [100., 100., 100.,   5.,   5.,   5.]])"
      ]
     },
     "execution_count": 90,
     "metadata": {},
     "output_type": "execute_result"
    }
   ],
   "source": [
    "c"
   ]
  },
  {
   "cell_type": "markdown",
   "metadata": {},
   "source": [
    "##matplotlib"
   ]
  },
  {
   "cell_type": "code",
   "execution_count": 117,
   "metadata": {},
   "outputs": [
    {
     "data": {
      "image/png": "[encoded data removed]",
      "text/plain": [
       "<Figure size 432x288 with 1 Axes>"
      ]
     },
     "metadata": {
      "needs_background": "light"
     },
     "output_type": "display_data"
    }
   ],
   "source": [
    "import matplotlib.pyplot as plt\n",
    "x=np.array([1,2,3,4])\n",
    "y=np.sin(x)\n",
    "plt.plot(x,y,color='blue',label=\"linear\")\n",
    "plt.plot(x,x**4, color='red', label=\"polynomial\")\n",
    "plt.xlabel(\"xaxis\")\n",
    "plt.ylabel(\"sine\")\n",
    "plt.title(\"sine func\")\n",
    "plt.legend()\n",
    "plt.show()\n",
    "#plt.legend()"
   ]
  },
  {
   "cell_type": "code",
   "execution_count": 137,
   "metadata": {},
   "outputs": [
    {
     "data": {
      "image/png": "[encoded data removed]",
      "text/plain": [
       "<Figure size 432x288 with 1 Axes>"
      ]
     },
     "metadata": {
      "needs_background": "light"
     },
     "output_type": "display_data"
    }
   ],
   "source": [
    "a1=np.random.randint(0,100,(100,2))\n",
    "y=np.random.randint(0,50,(100,2))\n",
    "#plt.plot(a1)\n",
    "\n",
    "plt.scatter(a1,y)\n",
    "plt.show()"
   ]
  },
  {
   "cell_type": "code",
   "execution_count": 143,
   "metadata": {},
   "outputs": [
    {
     "data": {
      "image/png": "[encoded data removed]",
      "text/plain": [
       "<Figure size 432x288 with 1 Axes>"
      ]
     },
     "metadata": {
      "needs_background": "light"
     },
     "output_type": "display_data"
    }
   ],
   "source": [
    "sct=np.random.randint(0,100,(100,2))\n",
    "plt.scatter(sct[:,0],sct[:,1],color ='red')\n",
    "plt.show()\n"
   ]
  },
  {
   "cell_type": "code",
   "execution_count": 153,
   "metadata": {},
   "outputs": [
    {
     "data": {
      "text/plain": [
       "<matplotlib.legend.Legend at 0x116b44438>"
      ]
     },
     "execution_count": 153,
     "metadata": {},
     "output_type": "execute_result"
    },
    {
     "data": {
      "image/png": "[encoded data removed]",
      "text/plain": [
       "<Figure size 432x288 with 1 Axes>"
      ]
     },
     "metadata": {
      "needs_background": "light"
     },
     "output_type": "display_data"
    }
   ],
   "source": [
    "plt.bar([1,3,5,7],[20,20,30,40],color='red', width=0.7,label='2018')\n",
    "plt.bar([2,4,6,8],[50,32.30,30.23,40.23],color='blue',width=0.5,label='2017')\n",
    "plt.legend()\n",
    "\n",
    "\n"
   ]
  },
  {
   "cell_type": "code",
   "execution_count": null,
   "metadata": {},
   "outputs": [],
   "source": []
  }
 ],
 "metadata": {
  "kernelspec": {
   "display_name": "Python 3",
   "language": "python",
   "name": "python3"
  },
  "language_info": {
   "codemirror_mode": {
    "name": "ipython",
    "version": 3
   },
   "file_extension": ".py",
   "mimetype": "text/x-python",
   "name": "python",
   "nbconvert_exporter": "python",
   "pygments_lexer": "ipython3",
   "version": "3.7.3"
  }
 },
 "nbformat": 4,
 "nbformat_minor": 2
}
